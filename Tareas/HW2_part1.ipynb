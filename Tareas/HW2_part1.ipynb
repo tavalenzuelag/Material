{
  "nbformat": 4,
  "nbformat_minor": 0,
  "metadata": {
    "colab": {
      "name": "Copy of HW2-part1.ipynb",
      "provenance": [],
      "collapsed_sections": []
    },
    "kernelspec": {
      "name": "python3",
      "display_name": "Python 3"
    },
    "accelerator": "GPU"
  },
  "cells": [
    {
      "cell_type": "code",
      "metadata": {
        "id": "XtwLePZxJAMp"
      },
      "source": [
        "import jax.numpy as np\n",
        "from jax import random, grad, jit\n",
        "from jax.experimental import optimizers\n",
        "from matplotlib import pyplot as plt\n",
        "key = random.PRNGKey(0)"
      ],
      "execution_count": 23,
      "outputs": []
    },
    {
      "cell_type": "markdown",
      "metadata": {
        "id": "RHZMjY0qirGg"
      },
      "source": [
        "# Homework 2 - Part 1\n",
        "## Neural network from scratch\n",
        "\n",
        "The aim of this homework is to code all the operations of a fully connected neural network.\n",
        "\n",
        "We will be using, for this part, a `python` library called `jax`. This library looks like `numpy`, but in the backend, it compiles the code \"just in time\" (`@jit`) into a more efficient code. Also, it has automatic differentiation in the function `grad`, which allows to do backpropagation to train the neural network.\n",
        "\n",
        "Perhaps the major difference between `numpy` and `jax.numpy` is the way random numbers are generated. Here is an [`jax` example](https://colab.research.google.com/github/google/jax/blob/master/docs/notebooks/Common_Gotchas_in_JAX.ipynb) of how to generate a random vector with normally distributed values, with mean 0 and standard deviation 1."
      ]
    },
    {
      "cell_type": "code",
      "metadata": {
        "id": "JIWIcjGSpKEk",
        "outputId": "5ab74fd8-4290-4867-cb10-613489e5e00d",
        "colab": {
          "base_uri": "https://localhost:8080/",
          "height": 102
        }
      },
      "source": [
        "key, subkey = random.split(key)\n",
        "print(random.normal(subkey, shape = (5,1)))\n"
      ],
      "execution_count": 24,
      "outputs": [
        {
          "output_type": "stream",
          "text": [
            "[[-1.4581939]\n",
            " [-2.047044 ]\n",
            " [ 2.0473392]\n",
            " [ 1.1684095]\n",
            " [-0.9758364]]\n"
          ],
          "name": "stdout"
        }
      ]
    },
    {
      "cell_type": "markdown",
      "metadata": {
        "id": "hxhO8B4Cyiio"
      },
      "source": [
        "We will use the same dataset as in homework 1:"
      ]
    },
    {
      "cell_type": "code",
      "metadata": {
        "id": "5-nz4__thbnT",
        "outputId": "35d0e823-c233-4f1c-f5a5-7bf169e919d7",
        "colab": {
          "base_uri": "https://localhost:8080/",
          "height": 289
        }
      },
      "source": [
        "!wget https://github.com/fsahli/PIML/raw/master/HW1/HW1data.npz"
      ],
      "execution_count": 25,
      "outputs": [
        {
          "output_type": "stream",
          "text": [
            "--2020-10-19 15:22:30--  https://github.com/fsahli/PIML/raw/master/HW1/HW1data.npz\n",
            "Resolving github.com (github.com)... 52.192.72.89\n",
            "Connecting to github.com (github.com)|52.192.72.89|:443... connected.\n",
            "HTTP request sent, awaiting response... 302 Found\n",
            "Location: https://raw.githubusercontent.com/fsahli/PIML/master/HW1/HW1data.npz [following]\n",
            "--2020-10-19 15:22:31--  https://raw.githubusercontent.com/fsahli/PIML/master/HW1/HW1data.npz\n",
            "Resolving raw.githubusercontent.com (raw.githubusercontent.com)... 151.101.0.133, 151.101.64.133, 151.101.128.133, ...\n",
            "Connecting to raw.githubusercontent.com (raw.githubusercontent.com)|151.101.0.133|:443... connected.\n",
            "HTTP request sent, awaiting response... 200 OK\n",
            "Length: 1882 (1.8K) [application/octet-stream]\n",
            "Saving to: ‘HW1data.npz.1’\n",
            "\n",
            "HW1data.npz.1       100%[===================>]   1.84K  --.-KB/s    in 0s      \n",
            "\n",
            "2020-10-19 15:22:31 (31.9 MB/s) - ‘HW1data.npz.1’ saved [1882/1882]\n",
            "\n"
          ],
          "name": "stdout"
        }
      ]
    },
    {
      "cell_type": "code",
      "metadata": {
        "id": "E8on0ntvhagE"
      },
      "source": [
        "def f(x):\n",
        "  return x*np.cos(x*np.pi)\n",
        "\n",
        "data = np.load('HW1data.npz')\n",
        "x_train = data['x_train'][:,None]\n",
        "y_train = data['y_train'][:,None]\n",
        "x_test = data['x_test'][:,None]\n",
        "y_test = data['y_test'][:,None]\n",
        "\n",
        "x_star = np.linspace(-1,1,100)[:,None]"
      ],
      "execution_count": 26,
      "outputs": []
    },
    {
      "cell_type": "markdown",
      "metadata": {
        "id": "D9tooo-MzE2L"
      },
      "source": [
        "## Problem 1\n",
        "a) [10 points] Complete the function `init_params` to initialize the parameters of the neural network, according to the strategies we learned in class. Consider we will use a tanh non linearity. The number of layers and the number of neurons per layers is defined in the list `layers`. For example, the following network \n",
        "\n",
        "<a href=\"https://ibb.co/3ds91Rj\"><img src=\"https://i.ibb.co/zx5Ts6B/Screen-Shot-2020-10-08-at-12-27-56-PM.png\" alt=\"Screen-Shot-2020-10-08-at-12-27-56-PM\" border=\"0\"></a>\n",
        "\n",
        "is defined with `layers = [1, 5, 5, 5, 1]`\n",
        "\n",
        "b) [10 points] Complete the code in the function `forward_pass` that computes the forward pass of the neural net. All the hidden layers have tanh activations and the output layer should be linear."
      ]
    },
    {
      "cell_type": "markdown",
      "metadata": {
        "id": "rth4kIGN2waB"
      },
      "source": [
        "#### Utilizaremos la regla de Glorot considerando parámetros que distribuyen normal. Como Jax solo permite generar parámetros que distribuyen N(0, 1), nos aprovecharemos de este hecho y utilizaremos la propiedad de distribución normal  tal que si c $\\in \\mathbb{R}$ e Y ~ $N(\\mu, \\sigma^2) \\Rightarrow cY$ ~ $N(c \\mu, c^2 \\sigma ^2) $\n"
      ]
    },
    {
      "cell_type": "code",
      "metadata": {
        "id": "laBE5WgXJDzM"
      },
      "source": [
        "layers = [1, 5, 5, 5, 1]\n",
        "\n",
        "\n",
        "def init_params(layers, key):\n",
        "  Ws = []\n",
        "  bs = []\n",
        "  for i in range(len(layers) - 1):\n",
        "    n_in = layers[i]\n",
        "    n_out = layers[i + 1]\n",
        "    std_glorot = np.sqrt(2/(n_in + n_out))\n",
        "    key, subkey = random.split(key)\n",
        "    Ws.append(random.normal(subkey, shape = (layers[i], layers[i+1])) * std_glorot)\n",
        "    bs.append(np.zeros(layers[i + 1]))\n",
        "  return [Ws, bs]\n",
        "\n",
        "@jit\n",
        "def forward_pass(H, params):\n",
        "  N_layers = len(params[0])\n",
        "  Ws = params[0]\n",
        "  bs = params[1]\n",
        "  for i in range(N_layers - 1):\n",
        "    H = H.dot(Ws[i]) + bs[i]\n",
        "    H = (2 / (1 + np.exp(-2 * H))) + 1\n",
        "  Y = H.dot(Ws[-1]) + bs[-1]\n",
        "  return Y\n",
        "\n",
        "@jit\n",
        "def loss(params, X, Y):\n",
        "  return np.average((forward_pass(X, params) - Y)**2)\n",
        "\n"
      ],
      "execution_count": 27,
      "outputs": []
    },
    {
      "cell_type": "markdown",
      "metadata": {
        "id": "kzpFqJUG7CC0"
      },
      "source": [
        "You can try if your code is working (or at least producing the right shape) with the following code:"
      ]
    },
    {
      "cell_type": "code",
      "metadata": {
        "id": "ybFIq-Na6o-Z",
        "outputId": "f9fa6e9b-dbdd-4b6a-a4d5-f74fc25b5ea5",
        "colab": {
          "base_uri": "https://localhost:8080/",
          "height": 34
        }
      },
      "source": [
        "params = init_params(layers, key)\n",
        "y = forward_pass(x_train, params)\n",
        "print(y.shape) # should be (30,1)"
      ],
      "execution_count": 28,
      "outputs": [
        {
          "output_type": "stream",
          "text": [
            "(30, 1)\n"
          ],
          "name": "stdout"
        }
      ]
    },
    {
      "cell_type": "markdown",
      "metadata": {
        "id": "gSLvhboX8fZ6"
      },
      "source": [
        "## Problem 2\n",
        "a) [2 points] Train the neural network using the function `train`. This functions uses the Adam optimizer to train the neural network.\n",
        "\n",
        "b) [4 points] Complete the function `train_minibatch` to compute the gradient only with a subset of the dataset. The simplest way to do this is with the function `random.choice(subkey,...,..., replace = False)`. This will create a random set of indices that can be use to select elements in `X` and `Y` arrays. \n",
        "\n",
        "c) [4 points] Train the network with multiple `batch_size` and report what happens in terms of validation error. You can change the number of iterations `nIter`"
      ]
    },
    {
      "cell_type": "code",
      "metadata": {
        "id": "2O4gOA3WS3A9"
      },
      "source": [
        "params = init_params(layers, key)\n",
        "\n",
        "opt_init, opt_update, get_params = optimizers.adam(1e-3)\n",
        "opt_state = opt_init(params)\n",
        "\n",
        "@jit\n",
        "def step(i, opt_state, X_batch, Y_batch):\n",
        "    params = get_params(opt_state)\n",
        "    g = grad(loss)(params, X_batch, Y_batch)\n",
        "    return opt_update(i, g, opt_state)\n",
        "\n",
        "def train(X, Y, opt_state, X_val = None, Y_val = None, nIter = 10000):\n",
        "    train_loss = []\n",
        "    val_loss = []\n",
        "    for it in range(nIter):\n",
        "        opt_state = step(it, opt_state, X, Y)            \n",
        "        if it % 100 == 0:\n",
        "            params = get_params(opt_state)\n",
        "            train_loss_value = loss(params, X, Y)\n",
        "            train_loss.append(train_loss_value)\n",
        "            to_print = \"it %i, train loss = %f\" % (it, train_loss_value)\n",
        "            if X_val is not None and Y_val is not None:\n",
        "              val_loss_value = loss(params, X_val, Y_val)\n",
        "              val_loss.append(val_loss_value)\n",
        "              to_print += \", val loss = %f\" % val_loss_value\n",
        "            print(to_print)\n",
        "    return get_params(opt_state), train_loss, val_loss\n",
        "\n",
        "def train_minibatch(X, Y, opt_state, key, X_val = None, Y_val = None, nIter = 10000, batch_size = 1):\n",
        "    train_loss = []\n",
        "    val_loss = []\n",
        "    for it in range(nIter):\n",
        "        key, subkey = random.split(key)\n",
        "        X_batch = random.choice(key, X.reshape(X.shape[0]), shape=(batch_size, 1), replace=False)\n",
        "        Y_batch = random.choice(key, Y.reshape(Y.shape[0]), shape=(batch_size, 1), replace=False)\n",
        "        opt_state = step(it, opt_state, X_batch, Y_batch)            \n",
        "        if it % 100 == 0:\n",
        "            params = get_params(opt_state)\n",
        "            train_loss_value = loss(params, X, Y)\n",
        "            train_loss.append(train_loss_value)\n",
        "            to_print = \"it %i, train loss = %f\" % (it, train_loss_value)\n",
        "            if X_val is not None and Y_val is not None:\n",
        "              val_loss_value = loss(params, X_val, Y_val)\n",
        "              val_loss.append(val_loss_value)\n",
        "              to_print += \", val loss = %f\" % val_loss_value\n",
        "            print(to_print)\n",
        "    return get_params(opt_state), train_loss, val_loss"
      ],
      "execution_count": 32,
      "outputs": []
    },
    {
      "cell_type": "code",
      "metadata": {
        "id": "2w9RtILEL05D",
        "outputId": "ee3a5994-3fd4-4c56-90ad-40f6591456d6",
        "colab": {
          "base_uri": "https://localhost:8080/",
          "height": 1000
        }
      },
      "source": [
        "params, train_loss, val_loss = train(x_train, y_train, opt_state, X_val = x_test, Y_val = y_test)"
      ],
      "execution_count": 12,
      "outputs": [
        {
          "output_type": "stream",
          "text": [
            "it 0, train loss = 0.324974, val loss = 0.409780\n",
            "it 100, train loss = 0.174356, val loss = 0.250722\n",
            "it 200, train loss = 0.149016, val loss = 0.213342\n",
            "it 300, train loss = 0.118875, val loss = 0.164013\n",
            "it 400, train loss = 0.106619, val loss = 0.145436\n",
            "it 500, train loss = 0.099526, val loss = 0.135197\n",
            "it 600, train loss = 0.094547, val loss = 0.130044\n",
            "it 700, train loss = 0.089581, val loss = 0.126492\n",
            "it 800, train loss = 0.085252, val loss = 0.124527\n",
            "it 900, train loss = 0.082444, val loss = 0.124426\n",
            "it 1000, train loss = 0.080587, val loss = 0.124594\n",
            "it 1100, train loss = 0.078652, val loss = 0.123725\n",
            "it 1200, train loss = 0.073573, val loss = 0.119406\n",
            "it 1300, train loss = 0.059241, val loss = 0.105868\n",
            "it 1400, train loss = 0.040050, val loss = 0.086985\n",
            "it 1500, train loss = 0.027174, val loss = 0.069003\n",
            "it 1600, train loss = 0.021172, val loss = 0.057346\n",
            "it 1700, train loss = 0.019013, val loss = 0.053134\n",
            "it 1800, train loss = 0.017948, val loss = 0.051506\n",
            "it 1900, train loss = 0.017301, val loss = 0.050788\n",
            "it 2000, train loss = 0.016870, val loss = 0.050506\n",
            "it 2100, train loss = 0.016566, val loss = 0.050451\n",
            "it 2200, train loss = 0.016341, val loss = 0.050510\n",
            "it 2300, train loss = 0.016167, val loss = 0.050619\n",
            "it 2400, train loss = 0.016027, val loss = 0.050739\n",
            "it 2500, train loss = 0.015908, val loss = 0.050848\n",
            "it 2600, train loss = 0.015803, val loss = 0.050932\n",
            "it 2700, train loss = 0.015707, val loss = 0.050987\n",
            "it 2800, train loss = 0.015615, val loss = 0.051010\n",
            "it 2900, train loss = 0.015526, val loss = 0.051005\n",
            "it 3000, train loss = 0.015439, val loss = 0.050976\n",
            "it 3100, train loss = 0.015352, val loss = 0.050929\n",
            "it 3200, train loss = 0.015266, val loss = 0.050870\n",
            "it 3300, train loss = 0.015180, val loss = 0.050804\n",
            "it 3400, train loss = 0.015094, val loss = 0.050736\n",
            "it 3500, train loss = 0.015007, val loss = 0.050670\n",
            "it 3600, train loss = 0.014920, val loss = 0.050610\n",
            "it 3700, train loss = 0.014831, val loss = 0.050560\n",
            "it 3800, train loss = 0.014740, val loss = 0.050524\n",
            "it 3900, train loss = 0.014645, val loss = 0.050506\n",
            "it 4000, train loss = 0.014545, val loss = 0.050510\n",
            "it 4100, train loss = 0.014440, val loss = 0.050541\n",
            "it 4200, train loss = 0.014329, val loss = 0.050607\n",
            "it 4300, train loss = 0.014213, val loss = 0.050712\n",
            "it 4400, train loss = 0.014091, val loss = 0.050865\n",
            "it 4500, train loss = 0.013964, val loss = 0.051071\n",
            "it 4600, train loss = 0.013836, val loss = 0.051337\n",
            "it 4700, train loss = 0.013707, val loss = 0.051666\n",
            "it 4800, train loss = 0.013581, val loss = 0.052060\n",
            "it 4900, train loss = 0.013461, val loss = 0.052514\n",
            "it 5000, train loss = 0.013349, val loss = 0.053022\n",
            "it 5100, train loss = 0.013246, val loss = 0.053568\n",
            "it 5200, train loss = 0.013155, val loss = 0.054138\n",
            "it 5300, train loss = 0.013072, val loss = 0.054668\n",
            "it 5400, train loss = 0.012999, val loss = 0.055274\n",
            "it 5500, train loss = 0.012934, val loss = 0.055825\n",
            "it 5600, train loss = 0.012875, val loss = 0.056344\n",
            "it 5700, train loss = 0.012820, val loss = 0.056848\n",
            "it 5800, train loss = 0.012770, val loss = 0.057278\n",
            "it 5900, train loss = 0.012738, val loss = 0.058204\n",
            "it 6000, train loss = 0.012676, val loss = 0.058068\n",
            "it 6100, train loss = 0.012637, val loss = 0.058726\n",
            "it 6200, train loss = 0.012588, val loss = 0.058755\n",
            "it 6300, train loss = 0.012545, val loss = 0.059127\n",
            "it 6400, train loss = 0.012502, val loss = 0.059356\n",
            "it 6500, train loss = 0.012459, val loss = 0.059603\n",
            "it 6600, train loss = 0.012416, val loss = 0.059889\n",
            "it 6700, train loss = 0.012373, val loss = 0.060171\n",
            "it 6800, train loss = 0.012330, val loss = 0.060390\n",
            "it 6900, train loss = 0.012287, val loss = 0.060514\n",
            "it 7000, train loss = 0.012244, val loss = 0.060872\n",
            "it 7100, train loss = 0.012200, val loss = 0.061125\n",
            "it 7200, train loss = 0.012157, val loss = 0.061360\n",
            "it 7300, train loss = 0.012113, val loss = 0.061586\n",
            "it 7400, train loss = 0.012070, val loss = 0.061787\n",
            "it 7500, train loss = 0.012026, val loss = 0.062063\n",
            "it 7600, train loss = 0.011983, val loss = 0.062466\n",
            "it 7700, train loss = 0.011940, val loss = 0.062543\n",
            "it 7800, train loss = 0.011896, val loss = 0.062803\n",
            "it 7900, train loss = 0.011854, val loss = 0.063044\n",
            "it 8000, train loss = 0.011813, val loss = 0.063300\n",
            "it 8100, train loss = 0.011773, val loss = 0.063557\n",
            "it 8200, train loss = 0.011735, val loss = 0.063819\n",
            "it 8300, train loss = 0.011698, val loss = 0.064096\n",
            "it 8400, train loss = 0.011663, val loss = 0.064363\n",
            "it 8500, train loss = 0.011629, val loss = 0.064698\n",
            "it 8600, train loss = 0.011596, val loss = 0.064929\n",
            "it 8700, train loss = 0.011566, val loss = 0.065166\n",
            "it 8800, train loss = 0.011536, val loss = 0.065496\n",
            "it 8900, train loss = 0.011507, val loss = 0.065789\n",
            "it 9000, train loss = 0.011479, val loss = 0.066061\n",
            "it 9100, train loss = 0.011452, val loss = 0.066381\n",
            "it 9200, train loss = 0.011425, val loss = 0.066673\n",
            "it 9300, train loss = 0.011399, val loss = 0.066983\n",
            "it 9400, train loss = 0.011374, val loss = 0.067412\n",
            "it 9500, train loss = 0.011349, val loss = 0.067581\n",
            "it 9600, train loss = 0.011324, val loss = 0.067883\n",
            "it 9700, train loss = 0.011299, val loss = 0.068266\n",
            "it 9800, train loss = 0.011274, val loss = 0.068488\n",
            "it 9900, train loss = 0.011262, val loss = 0.068177\n"
          ],
          "name": "stdout"
        }
      ]
    },
    {
      "cell_type": "code",
      "metadata": {
        "id": "2QLHTaVIlgXk",
        "outputId": "9fa44d3d-36bb-48e3-8cca-3af3ed6c3963",
        "colab": {
          "base_uri": "https://localhost:8080/",
          "height": 530
        }
      },
      "source": [
        "y_star = forward_pass(x_star, params)\n",
        "\n",
        "plt.plot(x_star, y_star, 'r', label = 'fit')\n",
        "plt.plot(x_star, f(x_star), 'k', label = 'f(x)')\n",
        "plt.plot(x_train, y_train, 'r.', label = 'train')\n",
        "plt.plot(x_test, y_test, 'b.', label = 'test')\n",
        "plt.legend()\n",
        "\n",
        "plt.figure()\n",
        "plt.plot(train_loss, label = 'training loss')\n",
        "plt.plot(val_loss, label = 'validation loss')\n",
        "plt.yscale('log')\n",
        "plt.legend()\n",
        "\n",
        "print('validation MSE:', val_loss[-1])"
      ],
      "execution_count": 13,
      "outputs": [
        {
          "output_type": "stream",
          "text": [
            "validation MSE: 0.06817658\n"
          ],
          "name": "stdout"
        },
        {
          "output_type": "display_data",
          "data": {
            "image/png": "[encoded data removed]",
            "text/plain": [
              "<Figure size 432x288 with 1 Axes>"
            ]
          },
          "metadata": {
            "tags": [],
            "needs_background": "light"
          }
        },
        {
          "output_type": "display_data",
          "data": {
            "image/png": "[encoded data removed]",
            "text/plain": [
              "<Figure size 432x288 with 1 Axes>"
            ]
          },
          "metadata": {
            "tags": [],
            "needs_background": "light"
          }
        }
      ]
    },
    {
      "cell_type": "code",
      "metadata": {
        "id": "4XjPOpYJjOtn",
        "outputId": "1f112ba6-3c06-416c-ecd3-81d1986cab49",
        "colab": {
          "base_uri": "https://localhost:8080/",
          "height": 1000
        }
      },
      "source": [
        "batch_size = 2\n",
        "params, train_loss, val_loss = train_minibatch(x_train, y_train, opt_state, key, X_val = x_test, Y_val = y_test, batch_size = batch_size, nIter = 20000)\n"
      ],
      "execution_count": 33,
      "outputs": [
        {
          "output_type": "stream",
          "text": [
            "it 0, train loss = 0.324974, val loss = 0.409780\n",
            "it 100, train loss = 0.195455, val loss = 0.278253\n",
            "it 200, train loss = 0.178903, val loss = 0.256401\n",
            "it 300, train loss = 0.171545, val loss = 0.246418\n",
            "it 400, train loss = 0.165844, val loss = 0.236236\n",
            "it 500, train loss = 0.155561, val loss = 0.220694\n",
            "it 600, train loss = 0.143687, val loss = 0.204074\n",
            "it 700, train loss = 0.136079, val loss = 0.190765\n",
            "it 800, train loss = 0.135954, val loss = 0.189223\n",
            "it 900, train loss = 0.125724, val loss = 0.175003\n",
            "it 1000, train loss = 0.119803, val loss = 0.165361\n",
            "it 1100, train loss = 0.117871, val loss = 0.163836\n",
            "it 1200, train loss = 0.116070, val loss = 0.161213\n",
            "it 1300, train loss = 0.114581, val loss = 0.158407\n",
            "it 1400, train loss = 0.111515, val loss = 0.152401\n",
            "it 1500, train loss = 0.110084, val loss = 0.149801\n",
            "it 1600, train loss = 0.112137, val loss = 0.149419\n",
            "it 1700, train loss = 0.107961, val loss = 0.147284\n",
            "it 1800, train loss = 0.106833, val loss = 0.146542\n",
            "it 1900, train loss = 0.110034, val loss = 0.150958\n",
            "it 2000, train loss = 0.113923, val loss = 0.150236\n",
            "it 2100, train loss = 0.103159, val loss = 0.140991\n",
            "it 2200, train loss = 0.103177, val loss = 0.143007\n",
            "it 2300, train loss = 0.116076, val loss = 0.151214\n",
            "it 2400, train loss = 0.101099, val loss = 0.137819\n",
            "it 2500, train loss = 0.101067, val loss = 0.137887\n",
            "it 2600, train loss = 0.100492, val loss = 0.137935\n",
            "it 2700, train loss = 0.106978, val loss = 0.138998\n",
            "it 2800, train loss = 0.099246, val loss = 0.134069\n",
            "it 2900, train loss = 0.104493, val loss = 0.142163\n",
            "it 3000, train loss = 0.106158, val loss = 0.136413\n",
            "it 3100, train loss = 0.097549, val loss = 0.134153\n",
            "it 3200, train loss = 0.098888, val loss = 0.137199\n",
            "it 3300, train loss = 0.096632, val loss = 0.131497\n",
            "it 3400, train loss = 0.101351, val loss = 0.135014\n",
            "it 3500, train loss = 0.095429, val loss = 0.130217\n",
            "it 3600, train loss = 0.096039, val loss = 0.132529\n",
            "it 3700, train loss = 0.095998, val loss = 0.133974\n",
            "it 3800, train loss = 0.094609, val loss = 0.132011\n",
            "it 3900, train loss = 0.098757, val loss = 0.131855\n",
            "it 4000, train loss = 0.094325, val loss = 0.132256\n",
            "it 4100, train loss = 0.093171, val loss = 0.129782\n",
            "it 4200, train loss = 0.098528, val loss = 0.132658\n",
            "it 4300, train loss = 0.092287, val loss = 0.129393\n",
            "it 4400, train loss = 0.091722, val loss = 0.126968\n",
            "it 4500, train loss = 0.093820, val loss = 0.128705\n",
            "it 4600, train loss = 0.094834, val loss = 0.131600\n",
            "it 4700, train loss = 0.090869, val loss = 0.125709\n",
            "it 4800, train loss = 0.091372, val loss = 0.126650\n",
            "it 4900, train loss = 0.090768, val loss = 0.128216\n",
            "it 5000, train loss = 0.089873, val loss = 0.126518\n",
            "it 5100, train loss = 0.089157, val loss = 0.125874\n",
            "it 5200, train loss = 0.089286, val loss = 0.125656\n",
            "it 5300, train loss = 0.095814, val loss = 0.132712\n",
            "it 5400, train loss = 0.088683, val loss = 0.126795\n",
            "it 5500, train loss = 0.092106, val loss = 0.128727\n",
            "it 5600, train loss = 0.088720, val loss = 0.122714\n",
            "it 5700, train loss = 0.087790, val loss = 0.126328\n",
            "it 5800, train loss = 0.087851, val loss = 0.127308\n",
            "it 5900, train loss = 0.088743, val loss = 0.125151\n",
            "it 6000, train loss = 0.089583, val loss = 0.124247\n",
            "it 6100, train loss = 0.086846, val loss = 0.124895\n",
            "it 6200, train loss = 0.085421, val loss = 0.121198\n",
            "it 6300, train loss = 0.092176, val loss = 0.127567\n",
            "it 6400, train loss = 0.091255, val loss = 0.126177\n",
            "it 6500, train loss = 0.084435, val loss = 0.120914\n",
            "it 6600, train loss = 0.085652, val loss = 0.119436\n",
            "it 6700, train loss = 0.085868, val loss = 0.120100\n",
            "it 6800, train loss = 0.089764, val loss = 0.120996\n",
            "it 6900, train loss = 0.084975, val loss = 0.118695\n",
            "it 7000, train loss = 0.083218, val loss = 0.116816\n",
            "it 7100, train loss = 0.084938, val loss = 0.115101\n",
            "it 7200, train loss = 0.083275, val loss = 0.121319\n",
            "it 7300, train loss = 0.081129, val loss = 0.117823\n",
            "it 7400, train loss = 0.080795, val loss = 0.117321\n",
            "it 7500, train loss = 0.080952, val loss = 0.118834\n",
            "it 7600, train loss = 0.082269, val loss = 0.121227\n",
            "it 7700, train loss = 0.081072, val loss = 0.114295\n",
            "it 7800, train loss = 0.080215, val loss = 0.119177\n",
            "it 7900, train loss = 0.079475, val loss = 0.115442\n",
            "it 8000, train loss = 0.079124, val loss = 0.116694\n",
            "it 8100, train loss = 0.079782, val loss = 0.112067\n",
            "it 8200, train loss = 0.077619, val loss = 0.114832\n",
            "it 8300, train loss = 0.077956, val loss = 0.115752\n",
            "it 8400, train loss = 0.076296, val loss = 0.112006\n",
            "it 8500, train loss = 0.079975, val loss = 0.118109\n",
            "it 8600, train loss = 0.077345, val loss = 0.110140\n",
            "it 8700, train loss = 0.076487, val loss = 0.111658\n",
            "it 8800, train loss = 0.075056, val loss = 0.110109\n",
            "it 8900, train loss = 0.076888, val loss = 0.115606\n",
            "it 9000, train loss = 0.073955, val loss = 0.109883\n",
            "it 9100, train loss = 0.076271, val loss = 0.112362\n",
            "it 9200, train loss = 0.072714, val loss = 0.105885\n",
            "it 9300, train loss = 0.071665, val loss = 0.104488\n",
            "it 9400, train loss = 0.072557, val loss = 0.108242\n",
            "it 9500, train loss = 0.069827, val loss = 0.102781\n",
            "it 9600, train loss = 0.070040, val loss = 0.104559\n",
            "it 9700, train loss = 0.070550, val loss = 0.104719\n",
            "it 9800, train loss = 0.068672, val loss = 0.103715\n",
            "it 9900, train loss = 0.067646, val loss = 0.100882\n",
            "it 10000, train loss = 0.066387, val loss = 0.100515\n",
            "it 10100, train loss = 0.064086, val loss = 0.097123\n",
            "it 10200, train loss = 0.068102, val loss = 0.101837\n",
            "it 10300, train loss = 0.066471, val loss = 0.097630\n",
            "it 10400, train loss = 0.058187, val loss = 0.091967\n",
            "it 10500, train loss = 0.055982, val loss = 0.089902\n",
            "it 10600, train loss = 0.053524, val loss = 0.087749\n",
            "it 10700, train loss = 0.050267, val loss = 0.084973\n",
            "it 10800, train loss = 0.048893, val loss = 0.082515\n",
            "it 10900, train loss = 0.052640, val loss = 0.088330\n",
            "it 11000, train loss = 0.044143, val loss = 0.079653\n",
            "it 11100, train loss = 0.042597, val loss = 0.078229\n",
            "it 11200, train loss = 0.043071, val loss = 0.080933\n",
            "it 11300, train loss = 0.041035, val loss = 0.079513\n",
            "it 11400, train loss = 0.039425, val loss = 0.074709\n",
            "it 11500, train loss = 0.037503, val loss = 0.076505\n",
            "it 11600, train loss = 0.042008, val loss = 0.085137\n",
            "it 11700, train loss = 0.035172, val loss = 0.073856\n",
            "it 11800, train loss = 0.036310, val loss = 0.078666\n",
            "it 11900, train loss = 0.035736, val loss = 0.071065\n",
            "it 12000, train loss = 0.031947, val loss = 0.070519\n",
            "it 12100, train loss = 0.034240, val loss = 0.069863\n",
            "it 12200, train loss = 0.030841, val loss = 0.067972\n",
            "it 12300, train loss = 0.029591, val loss = 0.066098\n",
            "it 12400, train loss = 0.036735, val loss = 0.084036\n",
            "it 12500, train loss = 0.027304, val loss = 0.065786\n",
            "it 12600, train loss = 0.036776, val loss = 0.067750\n",
            "it 12700, train loss = 0.029814, val loss = 0.064878\n",
            "it 12800, train loss = 0.027251, val loss = 0.069010\n",
            "it 12900, train loss = 0.025228, val loss = 0.064992\n",
            "it 13000, train loss = 0.027569, val loss = 0.066489\n",
            "it 13100, train loss = 0.028058, val loss = 0.061754\n",
            "it 13200, train loss = 0.026272, val loss = 0.068449\n",
            "it 13300, train loss = 0.025629, val loss = 0.061239\n",
            "it 13400, train loss = 0.023555, val loss = 0.063612\n",
            "it 13500, train loss = 0.030571, val loss = 0.063166\n",
            "it 13600, train loss = 0.030342, val loss = 0.061749\n",
            "it 13700, train loss = 0.022807, val loss = 0.060453\n",
            "it 13800, train loss = 0.024783, val loss = 0.060538\n",
            "it 13900, train loss = 0.027977, val loss = 0.074551\n",
            "it 14000, train loss = 0.026441, val loss = 0.070893\n",
            "it 14100, train loss = 0.029497, val loss = 0.076051\n",
            "it 14200, train loss = 0.022334, val loss = 0.057983\n",
            "it 14300, train loss = 0.021503, val loss = 0.057313\n",
            "it 14400, train loss = 0.021521, val loss = 0.057536\n",
            "it 14500, train loss = 0.026789, val loss = 0.057390\n",
            "it 14600, train loss = 0.021471, val loss = 0.059113\n",
            "it 14700, train loss = 0.022581, val loss = 0.055876\n",
            "it 14800, train loss = 0.020783, val loss = 0.056245\n",
            "it 14900, train loss = 0.023695, val loss = 0.059305\n",
            "it 15000, train loss = 0.020723, val loss = 0.055129\n",
            "it 15100, train loss = 0.020940, val loss = 0.058958\n",
            "it 15200, train loss = 0.024374, val loss = 0.062185\n",
            "it 15300, train loss = 0.020835, val loss = 0.054639\n",
            "it 15400, train loss = 0.032067, val loss = 0.077534\n",
            "it 15500, train loss = 0.022849, val loss = 0.060042\n",
            "it 15600, train loss = 0.020899, val loss = 0.058915\n",
            "it 15700, train loss = 0.021276, val loss = 0.055856\n",
            "it 15800, train loss = 0.021006, val loss = 0.056540\n",
            "it 15900, train loss = 0.021486, val loss = 0.054846\n",
            "it 16000, train loss = 0.028733, val loss = 0.057231\n",
            "it 16100, train loss = 0.022454, val loss = 0.063959\n",
            "it 16200, train loss = 0.021743, val loss = 0.054714\n",
            "it 16300, train loss = 0.024710, val loss = 0.052403\n",
            "it 16400, train loss = 0.040089, val loss = 0.090308\n",
            "it 16500, train loss = 0.022142, val loss = 0.059705\n",
            "it 16600, train loss = 0.019841, val loss = 0.057452\n",
            "it 16700, train loss = 0.019443, val loss = 0.054285\n",
            "it 16800, train loss = 0.020153, val loss = 0.052559\n",
            "it 16900, train loss = 0.020909, val loss = 0.051730\n",
            "it 17000, train loss = 0.020384, val loss = 0.058079\n",
            "it 17100, train loss = 0.019789, val loss = 0.051213\n",
            "it 17200, train loss = 0.023183, val loss = 0.064835\n",
            "it 17300, train loss = 0.022901, val loss = 0.053456\n",
            "it 17400, train loss = 0.022220, val loss = 0.055901\n",
            "it 17500, train loss = 0.019521, val loss = 0.056326\n",
            "it 17600, train loss = 0.024708, val loss = 0.063890\n",
            "it 17700, train loss = 0.019527, val loss = 0.050181\n",
            "it 17800, train loss = 0.021558, val loss = 0.049583\n",
            "it 17900, train loss = 0.018998, val loss = 0.053079\n",
            "it 18000, train loss = 0.021121, val loss = 0.052405\n",
            "it 18100, train loss = 0.019116, val loss = 0.054300\n",
            "it 18200, train loss = 0.019335, val loss = 0.050347\n",
            "it 18300, train loss = 0.025451, val loss = 0.054411\n",
            "it 18400, train loss = 0.018641, val loss = 0.051538\n",
            "it 18500, train loss = 0.018882, val loss = 0.054231\n",
            "it 18600, train loss = 0.019790, val loss = 0.057021\n",
            "it 18700, train loss = 0.021223, val loss = 0.053963\n",
            "it 18800, train loss = 0.018786, val loss = 0.051606\n",
            "it 18900, train loss = 0.020560, val loss = 0.055004\n",
            "it 19000, train loss = 0.019432, val loss = 0.051570\n",
            "it 19100, train loss = 0.018588, val loss = 0.050330\n",
            "it 19200, train loss = 0.018846, val loss = 0.049365\n",
            "it 19300, train loss = 0.018774, val loss = 0.053119\n",
            "it 19400, train loss = 0.021310, val loss = 0.060410\n",
            "it 19500, train loss = 0.019073, val loss = 0.050964\n",
            "it 19600, train loss = 0.018752, val loss = 0.047915\n",
            "it 19700, train loss = 0.020694, val loss = 0.054488\n",
            "it 19800, train loss = 0.018545, val loss = 0.051815\n",
            "it 19900, train loss = 0.019745, val loss = 0.053657\n"
          ],
          "name": "stdout"
        }
      ]
    },
    {
      "cell_type": "code",
      "metadata": {
        "id": "8JXHN0-AjiWu",
        "outputId": "470f4b19-f8f7-4d2b-a24f-f32c38197f83",
        "colab": {
          "base_uri": "https://localhost:8080/",
          "height": 547
        }
      },
      "source": [
        "y_star = forward_pass(x_star, params)\n",
        "\n",
        "plt.plot(x_star, y_star, 'r', label = 'fit')\n",
        "plt.plot(x_star, f(x_star), 'k', label = 'f(x)')\n",
        "plt.plot(x_train, y_train, 'r.', label = 'train')\n",
        "plt.plot(x_test, y_test, 'b.', label = 'test')\n",
        "plt.legend()\n",
        "\n",
        "plt.figure()\n",
        "plt.plot(train_loss, label = 'training loss')\n",
        "plt.plot(val_loss, label = 'validation loss')\n",
        "plt.yscale('log')\n",
        "plt.legend()\n",
        "\n",
        "print('batch size:', batch_size)\n",
        "print('validation MSE:', loss(params, x_test, y_test))"
      ],
      "execution_count": 34,
      "outputs": [
        {
          "output_type": "stream",
          "text": [
            "batch size: 2\n",
            "validation MSE: 0.050717954\n"
          ],
          "name": "stdout"
        },
        {
          "output_type": "display_data",
          "data": {
            "image/png": "[encoded data removed]",
            "text/plain": [
              "<Figure size 432x288 with 1 Axes>"
            ]
          },
          "metadata": {
            "tags": [],
            "needs_background": "light"
          }
        },
        {
          "output_type": "display_data",
          "data": {
            "image/png": "[encoded data removed]",
            "text/plain": [
              "<Figure size 432x288 with 1 Axes>"
            ]
          },
          "metadata": {
            "tags": [],
            "needs_background": "light"
          }
        }
      ]
    },
    {
      "cell_type": "code",
      "metadata": {
        "id": "6Jihtcz1eZzC"
      },
      "source": [
        ""
      ],
      "execution_count": null,
      "outputs": []
    }
  ]
}