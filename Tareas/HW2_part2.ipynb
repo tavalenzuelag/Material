{
  "nbformat": 4,
  "nbformat_minor": 0,
  "metadata": {
    "colab": {
      "name": "Copy of HW2-part2.ipynb",
      "provenance": [],
      "collapsed_sections": []
    },
    "kernelspec": {
      "name": "python3",
      "display_name": "Python 3"
    },
    "accelerator": "GPU",
    "widgets": {
      "application/vnd.jupyter.widget-state+json": {
        "23d8be8132de4d99a3039f2585308cb4": {
          "model_module": "@jupyter-widgets/controls",
          "model_name": "HBoxModel",
          "state": {
            "_view_name": "HBoxView",
            "_dom_classes": [],
            "_model_name": "HBoxModel",
            "_view_module": "@jupyter-widgets/controls",
            "_model_module_version": "1.5.0",
            "_view_count": null,
            "_view_module_version": "1.5.0",
            "box_style": "",
            "layout": "IPY_MODEL_c96ff10ddb1b4aabbf9960c9f9213011",
            "_model_module": "@jupyter-widgets/controls",
            "children": [
              "IPY_MODEL_b1ce86b508634872b37a13bb804aeb74",
              "IPY_MODEL_549e874869fd4f749f9a218a74395047"
            ]
          }
        },
        "c96ff10ddb1b4aabbf9960c9f9213011": {
          "model_module": "@jupyter-widgets/base",
          "model_name": "LayoutModel",
          "state": {
            "_view_name": "LayoutView",
            "grid_template_rows": null,
            "right": null,
            "justify_content": null,
            "_view_module": "@jupyter-widgets/base",
            "overflow": null,
            "_model_module_version": "1.2.0",
            "_view_count": null,
            "flex_flow": "row wrap",
            "width": "100%",
            "min_width": null,
            "border": null,
            "align_items": null,
            "bottom": null,
            "_model_module": "@jupyter-widgets/base",
            "top": null,
            "grid_column": null,
            "overflow_y": null,
            "overflow_x": null,
            "grid_auto_flow": null,
            "grid_area": null,
            "grid_template_columns": null,
            "flex": null,
            "_model_name": "LayoutModel",
            "justify_items": null,
            "grid_row": null,
            "max_height": null,
            "align_content": null,
            "visibility": null,
            "align_self": null,
            "height": null,
            "min_height": null,
            "padding": null,
            "grid_auto_rows": null,
            "grid_gap": null,
            "max_width": null,
            "order": null,
            "_view_module_version": "1.2.0",
            "grid_template_areas": null,
            "object_position": null,
            "object_fit": null,
            "grid_auto_columns": null,
            "margin": null,
            "display": "inline-flex",
            "left": null
          }
        },
        "b1ce86b508634872b37a13bb804aeb74": {
          "model_module": "@jupyter-widgets/controls",
          "model_name": "FloatProgressModel",
          "state": {
            "_view_name": "ProgressView",
            "style": "IPY_MODEL_c2201d61b57749e4a5b76ea2c4201ef3",
            "_dom_classes": [],
            "description": "Training: 100%",
            "_model_name": "FloatProgressModel",
            "bar_style": "success",
            "max": 1500,
            "_view_module": "@jupyter-widgets/controls",
            "_model_module_version": "1.5.0",
            "value": 1500,
            "_view_count": null,
            "_view_module_version": "1.5.0",
            "orientation": "horizontal",
            "min": 0,
            "description_tooltip": null,
            "_model_module": "@jupyter-widgets/controls",
            "layout": "IPY_MODEL_3f000c2fe09c4d9da0c3857668395ec7"
          }
        },
        "549e874869fd4f749f9a218a74395047": {
          "model_module": "@jupyter-widgets/controls",
          "model_name": "HTMLModel",
          "state": {
            "_view_name": "HTMLView",
            "style": "IPY_MODEL_986f361705824d1796193c370e3d417d",
            "_dom_classes": [],
            "description": "",
            "_model_name": "HTMLModel",
            "placeholder": "​",
            "_view_module": "@jupyter-widgets/controls",
            "_model_module_version": "1.5.0",
            "value": " 1500/1500 ETA: 00:00s,  30.04epochs/s",
            "_view_count": null,
            "_view_module_version": "1.5.0",
            "description_tooltip": null,
            "_model_module": "@jupyter-widgets/controls",
            "layout": "IPY_MODEL_c6a9747a8f1640989b6229deaa7da547"
          }
        },
        "c2201d61b57749e4a5b76ea2c4201ef3": {
          "model_module": "@jupyter-widgets/controls",
          "model_name": "ProgressStyleModel",
          "state": {
            "_view_name": "StyleView",
            "_model_name": "ProgressStyleModel",
            "description_width": "initial",
            "_view_module": "@jupyter-widgets/base",
            "_model_module_version": "1.5.0",
            "_view_count": null,
            "_view_module_version": "1.2.0",
            "bar_color": null,
            "_model_module": "@jupyter-widgets/controls"
          }
        },
        "3f000c2fe09c4d9da0c3857668395ec7": {
          "model_module": "@jupyter-widgets/base",
          "model_name": "LayoutModel",
          "state": {
            "_view_name": "LayoutView",
            "grid_template_rows": null,
            "right": null,
            "justify_content": null,
            "_view_module": "@jupyter-widgets/base",
            "overflow": null,
            "_model_module_version": "1.2.0",
            "_view_count": null,
            "flex_flow": null,
            "width": null,
            "min_width": null,
            "border": null,
            "align_items": null,
            "bottom": null,
            "_model_module": "@jupyter-widgets/base",
            "top": null,
            "grid_column": null,
            "overflow_y": null,
            "overflow_x": null,
            "grid_auto_flow": null,
            "grid_area": null,
            "grid_template_columns": null,
            "flex": "2",
            "_model_name": "LayoutModel",
            "justify_items": null,
            "grid_row": null,
            "max_height": null,
            "align_content": null,
            "visibility": null,
            "align_self": null,
            "height": null,
            "min_height": null,
            "padding": null,
            "grid_auto_rows": null,
            "grid_gap": null,
            "max_width": null,
            "order": null,
            "_view_module_version": "1.2.0",
            "grid_template_areas": null,
            "object_position": null,
            "object_fit": null,
            "grid_auto_columns": null,
            "margin": null,
            "display": null,
            "left": null
          }
        },
        "986f361705824d1796193c370e3d417d": {
          "model_module": "@jupyter-widgets/controls",
          "model_name": "DescriptionStyleModel",
          "state": {
            "_view_name": "StyleView",
            "_model_name": "DescriptionStyleModel",
            "description_width": "",
            "_view_module": "@jupyter-widgets/base",
            "_model_module_version": "1.5.0",
            "_view_count": null,
            "_view_module_version": "1.2.0",
            "_model_module": "@jupyter-widgets/controls"
          }
        },
        "c6a9747a8f1640989b6229deaa7da547": {
          "model_module": "@jupyter-widgets/base",
          "model_name": "LayoutModel",
          "state": {
            "_view_name": "LayoutView",
            "grid_template_rows": null,
            "right": null,
            "justify_content": null,
            "_view_module": "@jupyter-widgets/base",
            "overflow": null,
            "_model_module_version": "1.2.0",
            "_view_count": null,
            "flex_flow": null,
            "width": null,
            "min_width": null,
            "border": null,
            "align_items": null,
            "bottom": null,
            "_model_module": "@jupyter-widgets/base",
            "top": null,
            "grid_column": null,
            "overflow_y": null,
            "overflow_x": null,
            "grid_auto_flow": null,
            "grid_area": null,
            "grid_template_columns": null,
            "flex": null,
            "_model_name": "LayoutModel",
            "justify_items": null,
            "grid_row": null,
            "max_height": null,
            "align_content": null,
            "visibility": null,
            "align_self": null,
            "height": null,
            "min_height": null,
            "padding": null,
            "grid_auto_rows": null,
            "grid_gap": null,
            "max_width": null,
            "order": null,
            "_view_module_version": "1.2.0",
            "grid_template_areas": null,
            "object_position": null,
            "object_fit": null,
            "grid_auto_columns": null,
            "margin": null,
            "display": null,
            "left": null
          }
        }
      }
    }
  },
  "cells": [
    {
      "cell_type": "code",
      "metadata": {
        "id": "aMGCDiX_G_6a",
        "outputId": "d52e08a4-4b36-4b5c-aeea-3d9b8b71148e",
        "colab": {
          "base_uri": "https://localhost:8080/",
          "height": 714
        }
      },
      "source": [
        "!pip install pmlb\n",
        "!pip install -U tensorflow-addons\n",
        "!pip install -q \"tqdm>=4.36.1\""
      ],
      "execution_count": null,
      "outputs": [
        {
          "output_type": "stream",
          "text": [
            "Collecting pmlb\n",
            "  Downloading https://files.pythonhosted.org/packages/db/e3/6e6d1cb10b6736ceb1693f6ad8f8f979a3c8a101e9b20c4fd1a1613d3a76/pmlb-1.0.1.post3-py3-none-any.whl\n",
            "Collecting pyyaml>=5.3.1\n",
            "\u001b[?25l  Downloading https://files.pythonhosted.org/packages/64/c2/b80047c7ac2478f9501676c988a5411ed5572f35d1beff9cae07d321512c/PyYAML-5.3.1.tar.gz (269kB)\n",
            "\u001b[K     |████████████████████████████████| 276kB 9.1MB/s \n",
            "\u001b[?25hRequirement already satisfied: pandas>=1.0.5 in /usr/local/lib/python3.6/dist-packages (from pmlb) (1.1.2)\n",
            "Collecting requests>=2.24.0\n",
            "\u001b[?25l  Downloading https://files.pythonhosted.org/packages/45/1e/0c169c6a5381e241ba7404532c16a21d86ab872c9bed8bdcd4c423954103/requests-2.24.0-py2.py3-none-any.whl (61kB)\n",
            "\u001b[K     |████████████████████████████████| 71kB 8.8MB/s \n",
            "\u001b[?25hRequirement already satisfied: python-dateutil>=2.7.3 in /usr/local/lib/python3.6/dist-packages (from pandas>=1.0.5->pmlb) (2.8.1)\n",
            "Requirement already satisfied: pytz>=2017.2 in /usr/local/lib/python3.6/dist-packages (from pandas>=1.0.5->pmlb) (2018.9)\n",
            "Requirement already satisfied: numpy>=1.15.4 in /usr/local/lib/python3.6/dist-packages (from pandas>=1.0.5->pmlb) (1.18.5)\n",
            "Requirement already satisfied: urllib3!=1.25.0,!=1.25.1,<1.26,>=1.21.1 in /usr/local/lib/python3.6/dist-packages (from requests>=2.24.0->pmlb) (1.24.3)\n",
            "Requirement already satisfied: certifi>=2017.4.17 in /usr/local/lib/python3.6/dist-packages (from requests>=2.24.0->pmlb) (2020.6.20)\n",
            "Requirement already satisfied: chardet<4,>=3.0.2 in /usr/local/lib/python3.6/dist-packages (from requests>=2.24.0->pmlb) (3.0.4)\n",
            "Requirement already satisfied: idna<3,>=2.5 in /usr/local/lib/python3.6/dist-packages (from requests>=2.24.0->pmlb) (2.10)\n",
            "Requirement already satisfied: six>=1.5 in /usr/local/lib/python3.6/dist-packages (from python-dateutil>=2.7.3->pandas>=1.0.5->pmlb) (1.15.0)\n",
            "Building wheels for collected packages: pyyaml\n",
            "  Building wheel for pyyaml (setup.py) ... \u001b[?25l\u001b[?25hdone\n",
            "  Created wheel for pyyaml: filename=PyYAML-5.3.1-cp36-cp36m-linux_x86_64.whl size=44619 sha256=3c081f0eeb70400ed5166200d9f8293bf732d3a50a4c729b7d144bdc70ef1ac0\n",
            "  Stored in directory: /root/.cache/pip/wheels/a7/c1/ea/cf5bd31012e735dc1dfea3131a2d5eae7978b251083d6247bd\n",
            "Successfully built pyyaml\n",
            "\u001b[31mERROR: google-colab 1.0.0 has requirement requests~=2.23.0, but you'll have requests 2.24.0 which is incompatible.\u001b[0m\n",
            "\u001b[31mERROR: datascience 0.10.6 has requirement folium==0.2.1, but you'll have folium 0.8.3 which is incompatible.\u001b[0m\n",
            "Installing collected packages: pyyaml, requests, pmlb\n",
            "  Found existing installation: PyYAML 3.13\n",
            "    Uninstalling PyYAML-3.13:\n",
            "      Successfully uninstalled PyYAML-3.13\n",
            "  Found existing installation: requests 2.23.0\n",
            "    Uninstalling requests-2.23.0:\n",
            "      Successfully uninstalled requests-2.23.0\n",
            "Successfully installed pmlb-1.0.1.post3 pyyaml-5.3.1 requests-2.24.0\n",
            "Collecting tensorflow-addons\n",
            "\u001b[?25l  Downloading https://files.pythonhosted.org/packages/b3/f8/d6fca180c123f2851035c4493690662ebdad0849a9059d56035434bff5c9/tensorflow_addons-0.11.2-cp36-cp36m-manylinux2010_x86_64.whl (1.1MB)\n",
            "\u001b[K     |████████████████████████████████| 1.1MB 8.2MB/s \n",
            "\u001b[?25hRequirement already satisfied, skipping upgrade: typeguard>=2.7 in /usr/local/lib/python3.6/dist-packages (from tensorflow-addons) (2.7.1)\n",
            "Installing collected packages: tensorflow-addons\n",
            "  Found existing installation: tensorflow-addons 0.8.3\n",
            "    Uninstalling tensorflow-addons-0.8.3:\n",
            "      Successfully uninstalled tensorflow-addons-0.8.3\n",
            "Successfully installed tensorflow-addons-0.11.2\n"
          ],
          "name": "stdout"
        }
      ]
    },
    {
      "cell_type": "code",
      "metadata": {
        "id": "7z0fnHwvHKeT"
      },
      "source": [
        "from pmlb import fetch_data\n",
        "import numpy as np\n",
        "from matplotlib import pyplot as plt\n",
        "from tensorflow.keras.models import Sequential, Model\n",
        "from tensorflow.keras.layers import Dense, Dropout, Input\n",
        "from tensorflow.keras.optimizers import Adam, RMSprop\n",
        "from keras.wrappers.scikit_learn import KerasRegressor\n",
        "from tensorflow.keras import regularizers\n",
        "from sklearn.ensemble import BaggingRegressor\n",
        "from tensorflow.keras.callbacks import EarlyStopping\n",
        "import tensorflow_addons as tfa"
      ],
      "execution_count": null,
      "outputs": []
    },
    {
      "cell_type": "markdown",
      "metadata": {
        "id": "xq0YrHH0_B7X"
      },
      "source": [
        "# Homework 2 - part II\n",
        "\n",
        "**First: go to Runtime > Change runtime type > select GPU or TPU to accelerate the computations**\n",
        "\n",
        "This part of the homework of more about \"the art of machine learning\", where you will have to play with hyperparameters to get a good result. \n",
        "\n",
        "For this part of the homework you can work with a classmate. If so, write it here:\n",
        "\n",
        "\"I worked with ________________\"\n",
        "\n",
        "Here, we will work with some real data, where we will try to predict the time that it takes for a car to get from 0 to 60 miles per hour (96 km/h) in seconds, based on the following attributes:\n",
        "- miles per gallon: how many miles can you drive the car with one gallon of gasoline.\n",
        "- cylinders of the engine\n",
        "- size of the engine\n",
        "- horsepower\n",
        "- weight\n",
        "- year of fabrication. The cars are old, between 1971 and 1983.\n",
        "\n",
        "You can browse the dataset [here](https://epistasislab.github.io/penn-ml-benchmarks/profile/cars.html)"
      ]
    },
    {
      "cell_type": "code",
      "metadata": {
        "id": "z_s0vcapHiu-",
        "outputId": "9feda018-ca31-4300-a472-e76db04907ba",
        "colab": {
          "base_uri": "https://localhost:8080/",
          "height": 297
        }
      },
      "source": [
        "data = fetch_data(\"cars\")\n",
        "data.describe()"
      ],
      "execution_count": null,
      "outputs": [
        {
          "output_type": "execute_result",
          "data": {
            "text/html": [
              "<div>\n",
              "<style scoped>\n",
              "    .dataframe tbody tr th:only-of-type {\n",
              "        vertical-align: middle;\n",
              "    }\n",
              "\n",
              "    .dataframe tbody tr th {\n",
              "        vertical-align: top;\n",
              "    }\n",
              "\n",
              "    .dataframe thead th {\n",
              "        text-align: right;\n",
              "    }\n",
              "</style>\n",
              "<table border=\"1\" class=\"dataframe\">\n",
              "  <thead>\n",
              "    <tr style=\"text-align: right;\">\n",
              "      <th></th>\n",
              "      <th>MPG</th>\n",
              "      <th>cylinders</th>\n",
              "      <th>cubicInches</th>\n",
              "      <th>horsepower</th>\n",
              "      <th>weightLbs</th>\n",
              "      <th>time-to-sixty</th>\n",
              "      <th>year</th>\n",
              "      <th>brand</th>\n",
              "      <th>target</th>\n",
              "    </tr>\n",
              "  </thead>\n",
              "  <tbody>\n",
              "    <tr>\n",
              "      <th>count</th>\n",
              "      <td>392.000000</td>\n",
              "      <td>392.000000</td>\n",
              "      <td>392.000000</td>\n",
              "      <td>392.000000</td>\n",
              "      <td>392.000000</td>\n",
              "      <td>392.000000</td>\n",
              "      <td>392.000000</td>\n",
              "      <td>392.000000</td>\n",
              "      <td>392.000000</td>\n",
              "    </tr>\n",
              "    <tr>\n",
              "      <th>mean</th>\n",
              "      <td>23.445918</td>\n",
              "      <td>5.471939</td>\n",
              "      <td>194.413265</td>\n",
              "      <td>104.469388</td>\n",
              "      <td>2977.584184</td>\n",
              "      <td>15.681122</td>\n",
              "      <td>1976.979592</td>\n",
              "      <td>13.323980</td>\n",
              "      <td>1.451531</td>\n",
              "    </tr>\n",
              "    <tr>\n",
              "      <th>std</th>\n",
              "      <td>7.805007</td>\n",
              "      <td>1.705783</td>\n",
              "      <td>104.642823</td>\n",
              "      <td>38.491160</td>\n",
              "      <td>849.402560</td>\n",
              "      <td>2.761232</td>\n",
              "      <td>3.683737</td>\n",
              "      <td>8.558786</td>\n",
              "      <td>0.772082</td>\n",
              "    </tr>\n",
              "    <tr>\n",
              "      <th>min</th>\n",
              "      <td>9.000000</td>\n",
              "      <td>3.000000</td>\n",
              "      <td>68.000000</td>\n",
              "      <td>46.000000</td>\n",
              "      <td>1613.000000</td>\n",
              "      <td>8.000000</td>\n",
              "      <td>1971.000000</td>\n",
              "      <td>0.000000</td>\n",
              "      <td>0.000000</td>\n",
              "    </tr>\n",
              "    <tr>\n",
              "      <th>25%</th>\n",
              "      <td>17.000000</td>\n",
              "      <td>4.000000</td>\n",
              "      <td>105.000000</td>\n",
              "      <td>75.000000</td>\n",
              "      <td>2225.250000</td>\n",
              "      <td>14.000000</td>\n",
              "      <td>1974.000000</td>\n",
              "      <td>6.000000</td>\n",
              "      <td>1.000000</td>\n",
              "    </tr>\n",
              "    <tr>\n",
              "      <th>50%</th>\n",
              "      <td>22.750000</td>\n",
              "      <td>4.000000</td>\n",
              "      <td>151.000000</td>\n",
              "      <td>93.500000</td>\n",
              "      <td>2803.500000</td>\n",
              "      <td>16.000000</td>\n",
              "      <td>1977.000000</td>\n",
              "      <td>11.000000</td>\n",
              "      <td>2.000000</td>\n",
              "    </tr>\n",
              "    <tr>\n",
              "      <th>75%</th>\n",
              "      <td>29.000000</td>\n",
              "      <td>8.000000</td>\n",
              "      <td>275.750000</td>\n",
              "      <td>126.000000</td>\n",
              "      <td>3614.750000</td>\n",
              "      <td>17.000000</td>\n",
              "      <td>1980.000000</td>\n",
              "      <td>21.000000</td>\n",
              "      <td>2.000000</td>\n",
              "    </tr>\n",
              "    <tr>\n",
              "      <th>max</th>\n",
              "      <td>46.600000</td>\n",
              "      <td>8.000000</td>\n",
              "      <td>455.000000</td>\n",
              "      <td>230.000000</td>\n",
              "      <td>5140.000000</td>\n",
              "      <td>25.000000</td>\n",
              "      <td>1983.000000</td>\n",
              "      <td>29.000000</td>\n",
              "      <td>2.000000</td>\n",
              "    </tr>\n",
              "  </tbody>\n",
              "</table>\n",
              "</div>"
            ],
            "text/plain": [
              "              MPG   cylinders  cubicInches  ...         year       brand      target\n",
              "count  392.000000  392.000000   392.000000  ...   392.000000  392.000000  392.000000\n",
              "mean    23.445918    5.471939   194.413265  ...  1976.979592   13.323980    1.451531\n",
              "std      7.805007    1.705783   104.642823  ...     3.683737    8.558786    0.772082\n",
              "min      9.000000    3.000000    68.000000  ...  1971.000000    0.000000    0.000000\n",
              "25%     17.000000    4.000000   105.000000  ...  1974.000000    6.000000    1.000000\n",
              "50%     22.750000    4.000000   151.000000  ...  1977.000000   11.000000    2.000000\n",
              "75%     29.000000    8.000000   275.750000  ...  1980.000000   21.000000    2.000000\n",
              "max     46.600000    8.000000   455.000000  ...  1983.000000   29.000000    2.000000\n",
              "\n",
              "[8 rows x 9 columns]"
            ]
          },
          "metadata": {
            "tags": []
          },
          "execution_count": 3
        }
      ]
    },
    {
      "cell_type": "code",
      "metadata": {
        "id": "7plyjwwOILpw",
        "outputId": "584b853e-c031-4fa8-d24c-a66e99cb20e3",
        "colab": {
          "base_uri": "https://localhost:8080/",
          "height": 729
        }
      },
      "source": [
        "fields = ['MPG', 'cylinders', 'cubicInches', 'horsepower', 'weightLbs', 'year']\n",
        "\n",
        "fig = plt.figure()\n",
        "fig.set_size_inches((15,10))\n",
        "for i, field in enumerate(fields):\n",
        "  plt.subplot(2, 3, i + 1)\n",
        "  plt.plot(data[field], data['time-to-sixty'], 'k.')\n",
        "  plt.xlabel(field)\n",
        "  plt.ylabel('time-to-sixty')\n",
        "\n",
        "plt.tight_layout()"
      ],
      "execution_count": null,
      "outputs": [
        {
          "output_type": "display_data",
          "data": {
            "image/png": "[encoded data removed]",
            "text/plain": [
              "<Figure size 1080x720 with 6 Axes>"
            ]
          },
          "metadata": {
            "tags": [],
            "needs_background": "light"
          }
        }
      ]
    },
    {
      "cell_type": "code",
      "metadata": {
        "id": "TwkGsAIoIEt6",
        "outputId": "e80c4a92-2874-4d4e-939a-47f5ff169831",
        "colab": {
          "base_uri": "https://localhost:8080/",
          "height": 71
        }
      },
      "source": [
        "Y = data['time-to-sixty'][:,None]\n",
        "X = data[['MPG', 'cylinders', 'cubicInches', 'horsepower', 'weightLbs', 'year']]"
      ],
      "execution_count": null,
      "outputs": [
        {
          "output_type": "stream",
          "text": [
            "/usr/local/lib/python3.6/dist-packages/ipykernel_launcher.py:1: FutureWarning: Support for multi-dimensional indexing (e.g. `obj[:, None]`) is deprecated and will be removed in a future version.  Convert to a numpy array before indexing instead.\n",
            "  \"\"\"Entry point for launching an IPython kernel.\n"
          ],
          "name": "stderr"
        }
      ]
    },
    {
      "cell_type": "markdown",
      "metadata": {
        "id": "Dds9AFcXBJGn"
      },
      "source": [
        "A key step to train a neural network (and many other machine learning algorithms) is to normalize the data in a way that both the input and the output will have zero mean and variance equal to one:"
      ]
    },
    {
      "cell_type": "code",
      "metadata": {
        "id": "QUG-U98YIpno"
      },
      "source": [
        "def normalize(X, X_mu, X_std):\n",
        "  return (X - X_mu)/X_std\n",
        "\n",
        "def denormalize(Xn, X_mu, X_std):\n",
        "  return Xn*X_std + X_mu\n",
        "\n",
        "\n",
        "X_std = X.std(0)\n",
        "X_mu = X.mean(0)\n",
        "Xn = normalize(X, X_mu, X_std)\n",
        "\n",
        "Y_std = Y.std(0)\n",
        "Y_mu = Y.mean(0)\n",
        "Yn = normalize(Y, Y_mu, Y_std)"
      ],
      "execution_count": null,
      "outputs": []
    },
    {
      "cell_type": "markdown",
      "metadata": {
        "id": "pnkFTMGjBlbT"
      },
      "source": [
        "Now, we will split the data into train, validation and test sets. Note that we can use the validation set to make decisions about the parameters, but the performance will be evaluated with the test set."
      ]
    },
    {
      "cell_type": "code",
      "metadata": {
        "id": "OvvLKYEpIqW4",
        "outputId": "9377e1f7-1d92-4149-cab5-b8283caeb0da",
        "colab": {
          "base_uri": "https://localhost:8080/",
          "height": 34
        }
      },
      "source": [
        "from sklearn.model_selection import train_test_split\n",
        "X_train, X_test, y_train, y_test = train_test_split(Xn, Yn, test_size=0.25, random_state=42)\n",
        "X_train, X_val, y_train, y_val = train_test_split(X_train, y_train, test_size=0.2, random_state=42)\n",
        "print('training samples:', X_train.shape[0], 'validation samples', X_val.shape[0], 'test samples:', X_test.shape[0])"
      ],
      "execution_count": null,
      "outputs": [
        {
          "output_type": "stream",
          "text": [
            "training samples: 235 validation samples 59 test samples: 98\n"
          ],
          "name": "stdout"
        }
      ]
    },
    {
      "cell_type": "markdown",
      "metadata": {
        "id": "-Th5MZB_B9Sg"
      },
      "source": [
        "## Problem 1 [25 points]\n",
        "\n",
        "Tune the hyperparameters until you meet the two following conditions:\n",
        "1. The mean squared error on the test set is less than 0.23.\n",
        "2. The mean squared error in the training set is lower than in the test set. Otherwise, your neural network would be overfitting the test set, which is worse than overfitting the training set, because it is smaller.\n",
        "\n",
        "Some considerations:\n",
        "- You can change all the hyperparameters, width, depth, optimizer, activation function, learning rate.\n",
        "- Feel free to add regularization strategies. [See here](https://colab.research.google.com/drive/1I6l1kU8YhCuAR8fLYBZI5QVK8-o6hLnl?usp=sharing) for the notebook with regularization examples.\n",
        "- The only strategy that is not allowed is to use early stopping with the test set. We have the validation set for that. Also, manually tunning the number of epochs to do early stopping on the test set is not allowed. This will be easy to notice.\n",
        "- Feel free to automate the parameter search process.\n",
        "\n",
        "## Problem 2 [5 points]\n",
        "Comment why is not possible to achieve zero error both in the traning and test sets and relate it to a concept we learned in \"Introduction to machine learning\" chapter."
      ]
    },
    {
      "cell_type": "markdown",
      "metadata": {
        "id": "hkUtTyfzV_FM"
      },
      "source": [
        "### Nos quedamos finalmente con un modelo que utiliza regularización con $\\alpha = 0.004$."
      ]
    },
    {
      "cell_type": "code",
      "metadata": {
        "id": "OtpHQcnpK2Wa"
      },
      "source": [
        "width = 13\n",
        "depth = 3\n",
        "L2 = 0.004\n",
        "\n",
        "\n",
        "net_input = Input(shape=(Xn.shape[1],),name='input')\n",
        "\n",
        "net_output = Sequential([Dense(width, 'relu', kernel_regularizer=regularizers.l2(L2))]*(depth - 1) + [Dense(1, 'linear', kernel_regularizer=regularizers.l2(L2))], name = 'base_NN')(net_input)\n",
        "\n",
        "model = Model(inputs=net_input, outputs=net_output)\n",
        "model.compile(loss='mean_squared_error', optimizer='adam', metrics=['mean_squared_error'])"
      ],
      "execution_count": null,
      "outputs": []
    },
    {
      "cell_type": "code",
      "metadata": {
        "id": "4bU9EAbtana-",
        "outputId": "6f692f92-66bb-4afc-d48c-e1abda2fce20",
        "colab": {
          "base_uri": "https://localhost:8080/",
          "height": 66,
          "referenced_widgets": [
            "23d8be8132de4d99a3039f2585308cb4",
            "c96ff10ddb1b4aabbf9960c9f9213011",
            "b1ce86b508634872b37a13bb804aeb74",
            "549e874869fd4f749f9a218a74395047",
            "c2201d61b57749e4a5b76ea2c4201ef3",
            "3f000c2fe09c4d9da0c3857668395ec7",
            "986f361705824d1796193c370e3d417d",
            "c6a9747a8f1640989b6229deaa7da547"
          ]
        }
      },
      "source": [
        "tqdm_callback = tfa.callbacks.TQDMProgressBar(show_epoch_progress = False, leave_overall_progress = True)\n",
        "\n",
        "history = model.fit(X_train, y_train, epochs=1500, batch_size = 32, validation_data= (X_val, y_val), callbacks = [tqdm_callback], verbose = 0)"
      ],
      "execution_count": null,
      "outputs": [
        {
          "output_type": "display_data",
          "data": {
            "application/vnd.jupyter.widget-view+json": {
              "model_id": "23d8be8132de4d99a3039f2585308cb4",
              "version_minor": 0,
              "version_major": 2
            },
            "text/plain": [
              "HBox(children=(FloatProgress(value=0.0, description='Training', layout=Layout(flex='2'), max=1500.0, style=Pro…"
            ]
          },
          "metadata": {
            "tags": []
          }
        },
        {
          "output_type": "stream",
          "text": [
            "\n"
          ],
          "name": "stdout"
        }
      ]
    },
    {
      "cell_type": "code",
      "metadata": {
        "id": "DFUrzgnMbK4I",
        "outputId": "1d6a5dd4-e3b5-4aab-8755-025363b157f6",
        "colab": {
          "base_uri": "https://localhost:8080/",
          "height": 875
        }
      },
      "source": [
        "plt.plot(history.history['mean_squared_error'], label = 'training loss')\n",
        "plt.plot(history.history['val_mean_squared_error'], label = 'validation loss')\n",
        "plt.yscale('log')\n",
        "plt.legend()\n",
        "plt.ylabel('loss')\n",
        "plt.xlabel('epochs/100')\n",
        "\n",
        "y_star_train = model.predict(X_train)\n",
        "y_star_test = model.predict(X_test)\n",
        "plt.figure()\n",
        "plt.plot(y_train, y_star_train, 'r.')\n",
        "plt.plot([y_star_train.min(), y_star_train.max()], [y_star_train.min(), y_star_train.max()], 'k')\n",
        "plt.ylabel('$y^*_{train}$')\n",
        "plt.xlabel('$y_{train}$')\n",
        "plt.figure()\n",
        "plt.plot(y_test, y_star_test, 'b.')\n",
        "plt.plot([y_star_test.min(), y_star_test.max()], [y_star_test.min(), y_star_test.max()], 'k')\n",
        "plt.ylabel('$y^*_{test}$')\n",
        "plt.xlabel('$y_{test}$')\n",
        "\n",
        "MSE_test = np.average((y_star_test - y_test)**2)\n",
        "MSE_train = np.average((y_star_train - y_train)**2)\n",
        "print('MSE test:', MSE_test)\n",
        "print('MSE train:', MSE_train)\n",
        "print(\"MSE train < MSE test?\", MSE_train < MSE_test)\n",
        "print(\"MSE test < 0.23?\", MSE_test < 0.23)"
      ],
      "execution_count": null,
      "outputs": [
        {
          "output_type": "stream",
          "text": [
            "MSE test: 0.22726885913740158\n",
            "MSE train: 0.21543879105072275\n",
            "MSE train < MSE test? True\n",
            "MSE test < 0.23? True\n"
          ],
          "name": "stdout"
        },
        {
          "output_type": "display_data",
          "data": {
            "image/png": "[encoded data removed]",
            "text/plain": [
              "<Figure size 432x288 with 1 Axes>"
            ]
          },
          "metadata": {
            "tags": [],
            "needs_background": "light"
          }
        },
        {
          "output_type": "display_data",
          "data": {
            "image/png": "[encoded data removed]",
            "text/plain": [
              "<Figure size 432x288 with 1 Axes>"
            ]
          },
          "metadata": {
            "tags": [],
            "needs_background": "light"
          }
        },
        {
          "output_type": "display_data",
          "data": {
            "image/png": "[encoded data removed]",
            "text/plain": [
              "<Figure size 432x288 with 1 Axes>"
            ]
          },
          "metadata": {
            "tags": [],
            "needs_background": "light"
          }
        }
      ]
    },
    {
      "cell_type": "markdown",
      "metadata": {
        "id": "b9hieYB_W0UQ"
      },
      "source": [
        "### Observando los últimos dos gráficos se puede observar un buen ajuste de los datos en los datos de entrenamiento y test, pues los puntos se encuentran cercanos a la diagonal."
      ]
    },
    {
      "cell_type": "markdown",
      "metadata": {
        "id": "cOuG_--9Vm_j"
      },
      "source": [
        "## Respuesta Pregunta 2:\n",
        "\n",
        "#### Como hemos visto en clases, es imposible que ambos errores (entrenamiento y set) sean cero, pues si el error de entrenamiento se hace cero, esto implicará un modelo que no es capaz de generalizar los datos, pues este capturó y/o aprendió también el ruido de los datos (overfitting), esto producirá en consecuencia que el error de test incremente y en particular que sea distinto de cero.\n",
        "\n",
        "#### Otra forma de verlo, aunque está intrínsecamente relacionada a la explicación anterior es utilizando el concepto de Variance-bias trade-off. Que el error en el set de entrenamiento se haga cero implica necesariamente una muy alta capacidad del modelo, el cual induce a un aumento en la varianza debido a la captura del ruido de los datos. En consecuencia, estamos en la zona de overfitting y la conclusión será por tanto idéntica a la efectuada en el primer párrafo.\n"
      ]
    },
    {
      "cell_type": "code",
      "metadata": {
        "id": "uXmp-knuXBjH"
      },
      "source": [
        ""
      ],
      "execution_count": null,
      "outputs": []
    }
  ]
}